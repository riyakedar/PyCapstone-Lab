{
 "cells": [
  {
   "cell_type": "code",
   "execution_count": 1,
   "id": "c8787dd8",
   "metadata": {},
   "outputs": [],
   "source": [
    "#Exp no.:5"
   ]
  },
  {
   "cell_type": "code",
   "execution_count": 2,
   "id": "dd50d5e1",
   "metadata": {},
   "outputs": [],
   "source": [
    "#Aim:To perform and analysis of T Test parametric Test"
   ]
  },
  {
   "cell_type": "code",
   "execution_count": 3,
   "id": "da33ee60",
   "metadata": {},
   "outputs": [],
   "source": [
    "#Name:Riya Anand Kedar\n",
    "#Roll No.:7\n",
    "#Sec: 3B\n",
    "#Subject:ET - 2"
   ]
  },
  {
   "cell_type": "code",
   "execution_count": 4,
   "id": "8562d32a",
   "metadata": {},
   "outputs": [],
   "source": [
    " ages=[10,20,35,50,28,40,55,18,16,55,30,25,43,18,30,28,14,24,16,17,32,35,26,27,65,18,43,23,21,20,19,70]"
   ]
  },
  {
   "cell_type": "code",
   "execution_count": 5,
   "id": "d8ec6b99",
   "metadata": {},
   "outputs": [
    {
     "data": {
      "text/plain": [
       "32"
      ]
     },
     "execution_count": 5,
     "metadata": {},
     "output_type": "execute_result"
    }
   ],
   "source": [
    " len(ages)"
   ]
  },
  {
   "cell_type": "code",
   "execution_count": 6,
   "id": "ffdbdf90",
   "metadata": {},
   "outputs": [
    {
     "data": {
      "text/plain": [
       "list"
      ]
     },
     "execution_count": 6,
     "metadata": {},
     "output_type": "execute_result"
    }
   ],
   "source": [
    "type(ages)"
   ]
  },
  {
   "cell_type": "code",
   "execution_count": 7,
   "id": "1f690630",
   "metadata": {},
   "outputs": [
    {
     "name": "stdout",
     "output_type": "stream",
     "text": [
      "30.34375\n"
     ]
    }
   ],
   "source": [
    " import numpy as np\n",
    " ages_mean=np.mean(ages)\n",
    " print(ages_mean)"
   ]
  },
  {
   "cell_type": "code",
   "execution_count": 8,
   "id": "826d33b6",
   "metadata": {},
   "outputs": [],
   "source": [
    " ## Lets take sample\n",
    "\n",
    " sample_size=10\n",
    " age_sample=np.random.choice(ages,sample_size)"
   ]
  },
  {
   "cell_type": "code",
   "execution_count": 9,
   "id": "3be09de8",
   "metadata": {},
   "outputs": [
    {
     "data": {
      "text/plain": [
       "array([24, 24, 17, 50, 18, 10, 28, 43, 35, 35])"
      ]
     },
     "execution_count": 9,
     "metadata": {},
     "output_type": "execute_result"
    }
   ],
   "source": [
    "age_sample"
   ]
  },
  {
   "cell_type": "code",
   "execution_count": 10,
   "id": "7be2298c",
   "metadata": {},
   "outputs": [
    {
     "data": {
      "text/plain": [
       "array([24, 24, 17, 50, 18, 10, 28, 43, 35, 35])"
      ]
     },
     "execution_count": 10,
     "metadata": {},
     "output_type": "execute_result"
    }
   ],
   "source": [
    "age_sample"
   ]
  },
  {
   "cell_type": "code",
   "execution_count": 11,
   "id": "7cc7b2ed",
   "metadata": {},
   "outputs": [],
   "source": [
    " from scipy.stats import ttest_1samp"
   ]
  },
  {
   "cell_type": "code",
   "execution_count": 12,
   "id": "ece3ffe3",
   "metadata": {},
   "outputs": [],
   "source": [
    " ttest,p_value=ttest_1samp(age_sample,30)"
   ]
  },
  {
   "cell_type": "code",
   "execution_count": 13,
   "id": "972cef55",
   "metadata": {},
   "outputs": [
    {
     "name": "stdout",
     "output_type": "stream",
     "text": [
      "0.6926333242322502\n"
     ]
    }
   ],
   "source": [
    " print(p_value)"
   ]
  },
  {
   "cell_type": "code",
   "execution_count": 14,
   "id": "f3444149",
   "metadata": {},
   "outputs": [
    {
     "name": "stdout",
     "output_type": "stream",
     "text": [
      "we are accepting null hypothesis\n"
     ]
    }
   ],
   "source": [
    " if p_value < 0.05:    # alpha value is 0.05 or 5%\n",
    "    print(\" we are rejecting null hypothesis\")\n",
    " else:\n",
    "    print(\"we are accepting null hypothesis\")"
   ]
  },
  {
   "cell_type": "code",
   "execution_count": null,
   "id": "ec5e8664",
   "metadata": {},
   "outputs": [],
   "source": []
  },
  {
   "cell_type": "code",
   "execution_count": null,
   "id": "2314ecb6",
   "metadata": {},
   "outputs": [],
   "source": []
  }
 ],
 "metadata": {
  "kernelspec": {
   "display_name": "Python 3 (ipykernel)",
   "language": "python",
   "name": "python3"
  },
  "language_info": {
   "codemirror_mode": {
    "name": "ipython",
    "version": 3
   },
   "file_extension": ".py",
   "mimetype": "text/x-python",
   "name": "python",
   "nbconvert_exporter": "python",
   "pygments_lexer": "ipython3",
   "version": "3.11.7"
  }
 },
 "nbformat": 4,
 "nbformat_minor": 5
}
